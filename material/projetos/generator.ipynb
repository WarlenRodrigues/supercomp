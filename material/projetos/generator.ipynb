{
 "cells": [
  {
   "cell_type": "code",
   "execution_count": 1,
   "source": [
    "import random\n",
    "\n",
    "def random_subset(s,D_size):\n",
    "  D = set(random.sample(s, k=D_size))\n",
    "  return D"
   ],
   "outputs": [],
   "metadata": {}
  },
  {
   "cell_type": "code",
   "execution_count": 4,
   "source": [
    "def gera_input(U_size,F_size,D_size, Output):\n",
    "  \"\"\"\n",
    "    U_size = número de elementos em U\n",
    "    F_size = número de elementos em F\n",
    "    D_size = número máximo de elementos em cada subconjunto de F\n",
    "    Output = nome do arquivo de output\n",
    "  \"\"\"\n",
    "  output = f'{U_size} {F_size}\\n'\n",
    "\n",
    "  subsets=[]\n",
    "  universe = set(range(U_size))\n",
    "\n",
    "  for i in range(F_size):\n",
    "      d=random.randint(1, D_size)\n",
    "      subset = random_subset(universe,d)\n",
    "      if len(subset) != 0:\n",
    "          subsets.append(subset)\n",
    "          output += str(subset)[1:-1].replace(',', \"\") + \"\\n\"\n",
    "  with open(f'./entradas/{Output}', \"w\") as text_file:\n",
    "    text_file.write(output)"
   ],
   "outputs": [],
   "metadata": {}
  },
  {
   "cell_type": "code",
   "execution_count": 8,
   "source": [
    "for i in range(1, 21):\n",
    "    print(i)\n",
    "    gera_input(1000,80,40, f'entrada-1000-{i}.txt') "
   ],
   "outputs": [
    {
     "output_type": "stream",
     "name": "stdout",
     "text": [
      "1\n",
      "2\n",
      "3\n",
      "4\n",
      "5\n",
      "6\n",
      "7\n",
      "8\n",
      "9\n",
      "10\n",
      "11\n",
      "12\n",
      "13\n",
      "14\n",
      "15\n",
      "16\n",
      "17\n",
      "18\n",
      "19\n",
      "20\n"
     ]
    }
   ],
   "metadata": {}
  }
 ],
 "metadata": {
  "orig_nbformat": 4,
  "language_info": {
   "name": "python",
   "version": "3.8.10",
   "mimetype": "text/x-python",
   "codemirror_mode": {
    "name": "ipython",
    "version": 3
   },
   "pygments_lexer": "ipython3",
   "nbconvert_exporter": "python",
   "file_extension": ".py"
  },
  "kernelspec": {
   "name": "python3",
   "display_name": "Python 3.8.10 64-bit"
  },
  "interpreter": {
   "hash": "916dbcbb3f70747c44a77c7bcd40155683ae19c65e1c03b4aa3499c5328201f1"
  }
 },
 "nbformat": 4,
 "nbformat_minor": 2
}