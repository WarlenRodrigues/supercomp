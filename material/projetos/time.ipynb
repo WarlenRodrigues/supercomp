{
 "cells": [
  {
   "cell_type": "code",
   "execution_count": 1,
   "source": [
    "%matplotlib inline\n",
    "import matplotlib.pyplot as plt\n",
    "import numpy as np"
   ],
   "outputs": [],
   "metadata": {}
  },
  {
   "cell_type": "code",
   "execution_count": 2,
   "source": [
    "import subprocess\n",
    "import time\n",
    "\n",
    "def collect_info(program, filename, times_list, coverages_list):\n",
    "    \n",
    "    with open(f'./entradas/{filename}','r') as input_file, open(f'./solucoes/{filename.replace(\"entrada\", \"solucao\")}','a') as solution_file:    \n",
    "        for line in input_file:\n",
    "            solution_file.write(line)\n",
    "\n",
    "\n",
    "    with open(f'./entradas/{filename}','r') as input_file, open(f'./solucoes/{filename.replace(\"entrada\", \"solucao\")}','a') as solution_file, open(f'./saidas/{filename.replace(\"entrada\", \"saida\")}','a') as output_file:\n",
    "\n",
    "        start = time.perf_counter()\n",
    "        proc = subprocess.run([f'./{program}'], input=input_file.read(), text=True, capture_output=True)\n",
    "        end = time.perf_counter()\n",
    "        times_list.append(end-start)\n",
    "\n",
    "        solution_file.write(f'\\n{proc.stdout}')\n",
    "        output_file.write(proc.stdout)\n",
    "    \n",
    "    with open(f'./solucoes/{filename.replace(\"entrada\", \"solucao\")}','r') as solution_file:\n",
    "        proc = subprocess.run([f'./verify'], input=solution_file.read(), text=True, capture_output=True)\n",
    "        coverages_list.append(float(proc.stdout))"
   ],
   "outputs": [],
   "metadata": {}
  },
  {
   "cell_type": "code",
   "execution_count": 5,
   "source": [
    "sizes = [250, 500, 1000]\n",
    "filenames = []\n",
    "coverages = []\n",
    "times = []\n",
    "\n",
    "for n in sizes:\n",
    "    for i in range(1,21):\n",
    "        filenames.append(f'entrada-{n}-{i}.txt')\n",
    "\n",
    "for filename in filenames:\n",
    "    collect_info(program=\"busca-local\", filename=filename, times_list=times, coverages_list=coverages)\n",
    "    "
   ],
   "outputs": [],
   "metadata": {}
  },
  {
   "cell_type": "code",
   "execution_count": 6,
   "source": [
    "times = [i * 1000 for i in times]\n",
    "print(times) #em ms"
   ],
   "outputs": [
    {
     "output_type": "stream",
     "name": "stdout",
     "text": [
      "[24.09733785316348, 19.579430110752583, 20.221755374222994, 20.148369949311018, 26.045648846775293, 21.33465511724353, 19.146902952343225, 24.161679204553366, 86.04588080197573, 23.864792194217443, 22.195509634912014, 20.460326690226793, 26.676675770431757, 77.27584289386868, 22.904342971742153, 79.72355093806982, 19.062376115471125, 19.611520692706108, 23.03251624107361, 84.83409322798252, 135.35790285095572, 126.66384829208255, 167.3850561492145, 149.24343721941113, 151.24686807394028, 119.74125495180488, 124.78900281712413, 159.37969228252769, 159.46369105949998, 146.03185513988137, 155.23508936166763, 123.91444388777018, 136.91401295363903, 118.52579284459352, 136.94090908393264, 139.6377612836659, 131.734071765095, 133.08176072314382, 124.81334712356329, 146.54546417295933, 196.26650540158153, 198.3370720408857, 202.31125224381685, 217.4885137937963, 198.84597696363926, 201.04451710358262, 187.95019388198853, 215.93635203316808, 195.80339919775724, 172.78291191905737, 171.37011978775263, 205.16196405515075, 213.71057303622365, 202.08279322832823, 194.38924780115485, 199.79777606204152, 205.3725328296423, 187.64553731307387, 202.01116893440485, 179.01838710531592]\n"
     ]
    }
   ],
   "metadata": {}
  },
  {
   "cell_type": "code",
   "execution_count": 7,
   "source": [
    "series = []\n",
    "\n",
    "for n in sizes:\n",
    "    for i in range(1,21):\n",
    "        series.append(n)\n",
    "        "
   ],
   "outputs": [],
   "metadata": {}
  },
  {
   "cell_type": "code",
   "execution_count": 8,
   "source": [
    "plt.scatter(times, series)\n",
    "plt.xlabel(\"ms\")\n",
    "plt.ylabel(\"Elementos\")\n",
    "plt.show()"
   ],
   "outputs": [
    {
     "output_type": "display_data",
     "data": {
      "image/png": "[encoded data removed]",
      "text/plain": [
       "<Figure size 432x288 with 1 Axes>"
      ]
     },
     "metadata": {
      "needs_background": "light"
     }
    }
   ],
   "metadata": {}
  },
  {
   "cell_type": "code",
   "execution_count": 9,
   "source": [
    "plt.scatter(series, coverages)\n",
    "plt.xlabel(\"Elementos\")\n",
    "plt.ylabel(\"% de elementos coberta\")\n",
    "plt.show()"
   ],
   "outputs": [
    {
     "output_type": "display_data",
     "data": {
      "image/png": "[encoded data removed]",
      "text/plain": [
       "<Figure size 432x288 with 1 Axes>"
      ]
     },
     "metadata": {
      "needs_background": "light"
     }
    }
   ],
   "metadata": {}
  }
 ],
 "metadata": {
  "orig_nbformat": 4,
  "language_info": {
   "name": "python",
   "version": "3.8.10",
   "mimetype": "text/x-python",
   "codemirror_mode": {
    "name": "ipython",
    "version": 3
   },
   "pygments_lexer": "ipython3",
   "nbconvert_exporter": "python",
   "file_extension": ".py"
  },
  "kernelspec": {
   "name": "python3",
   "display_name": "Python 3.8.10 64-bit"
  },
  "interpreter": {
   "hash": "916dbcbb3f70747c44a77c7bcd40155683ae19c65e1c03b4aa3499c5328201f1"
  }
 },
 "nbformat": 4,
 "nbformat_minor": 2
}