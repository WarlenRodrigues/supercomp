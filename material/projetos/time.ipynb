{
 "cells": [
  {
   "cell_type": "code",
   "execution_count": 1,
   "source": [
    "%matplotlib inline\n",
    "import matplotlib.pyplot as plt\n",
    "import numpy as np"
   ],
   "outputs": [],
   "metadata": {}
  },
  {
   "cell_type": "code",
   "execution_count": 13,
   "source": [
    "import subprocess\n",
    "import time\n",
    "\n",
    "def collect_info(program, filename, times_list, coverages_list):\n",
    "    \n",
    "    with open(f'./entradas/{filename}','r') as input_file, open(f'./solucoes/{filename.replace(\"entrada\", \"solucao\")}','a') as solution_file:    \n",
    "        for line in input_file:\n",
    "            solution_file.write(line)\n",
    "\n",
    "\n",
    "    with open(f'./entradas/{filename}','r') as input_file, open(f'./solucoes/{filename.replace(\"entrada\", \"solucao\")}','a') as solution_file, open(f'./saidas/{filename.replace(\"entrada\", \"saida\")}','a') as output_file:\n",
    "\n",
    "        start = time.perf_counter()\n",
    "        proc = subprocess.run([f'./{program}'], input=input_file.read(), text=True, capture_output=True)\n",
    "        end = time.perf_counter()\n",
    "        times_list.append(end-start)\n",
    "\n",
    "        solution_file.write(f'\\n{proc.stdout}')\n",
    "        output_file.write(proc.stdout)\n",
    "    \n",
    "    with open(f'./solucoes/{filename.replace(\"entrada\", \"solucao\")}','r') as solution_file:\n",
    "        proc = subprocess.run([f'./verify'], input=solution_file.read(), text=True, capture_output=True)\n",
    "        coverages_list.append(float(proc.stdout))"
   ],
   "outputs": [],
   "metadata": {}
  },
  {
   "cell_type": "code",
   "execution_count": 14,
   "source": [
    "sizes = [250, 500, 1000]\n",
    "filenames = []\n",
    "coverages = []\n",
    "times = []\n",
    "\n",
    "for n in sizes:\n",
    "    for i in range(1,21):\n",
    "        filenames.append(f'entrada-{n}-{i}.txt')\n",
    "\n",
    "for filename in filenames:\n",
    "    collect_info(program=\"heuristica\", filename=filename, times_list=times, coverages_list=coverages)\n",
    "    "
   ],
   "outputs": [],
   "metadata": {}
  },
  {
   "cell_type": "code",
   "execution_count": 19,
   "source": [
    "times = [i * 1000 for i in times]\n",
    "print(times) #em ms"
   ],
   "outputs": [
    {
     "output_type": "stream",
     "name": "stdout",
     "text": [
      "[36.40876058489084, 25.19399719312787, 35.242835991084576, 35.57472210377455, 36.4754069596529, 27.408694848418236, 35.0457401946187, 28.48606090992689, 27.087365742772818, 40.74307205155492, 30.01246089115739, 27.89627993479371, 35.50136415287852, 41.9421992264688, 29.18183384463191, 28.031424153596163, 28.360793832689524, 32.36574586480856, 26.468161027878523, 31.11437987536192, 40.477680042386055, 36.85498982667923, 37.76456601917744, 52.62123513966799, 45.82747118547559, 55.411878041923046, 47.2161709330976, 43.233648873865604, 41.088772006332874, 39.53896462917328, 48.50475396960974, 44.69292890280485, 38.29611698165536, 46.5616281144321, 47.98069456592202, 45.970363076776266, 45.99470179527998, 54.60683396086097, 46.22787097468972, 44.3651326932013, 50.4106180742383, 53.74534893780947, 56.36864993721247, 50.13867700472474, 48.14996477216482, 57.5639558956027, 58.602582197636366, 44.92852184921503, 45.671974774450064, 48.95527707412839, 46.690661925822496, 46.876873821020126, 50.3755658864975, 62.40414688363671, 48.94630890339613, 57.021427899599075, 55.45353703200817, 57.95956216752529, 51.21133383363485, 64.45772806182504]\n"
     ]
    }
   ],
   "metadata": {}
  },
  {
   "cell_type": "code",
   "execution_count": 20,
   "source": [
    "series = []\n",
    "\n",
    "for n in sizes:\n",
    "    for i in range(1,21):\n",
    "        series.append(n)\n",
    "        "
   ],
   "outputs": [],
   "metadata": {}
  },
  {
   "cell_type": "code",
   "execution_count": 33,
   "source": [
    "plt.scatter(times, series)\n",
    "plt.xlabel(\"ms\")\n",
    "plt.ylabel(\"Elementos\")\n",
    "plt.show()"
   ],
   "outputs": [
    {
     "output_type": "display_data",
     "data": {
      "image/png": "[encoded data removed]",
      "text/plain": [
       "<Figure size 432x288 with 1 Axes>"
      ]
     },
     "metadata": {
      "needs_background": "light"
     }
    }
   ],
   "metadata": {}
  },
  {
   "cell_type": "code",
   "execution_count": 36,
   "source": [
    "plt.scatter(series, coverages)\n",
    "plt.xlabel(\"Elementos\")\n",
    "plt.ylabel(\"% de elementos coberta\")\n",
    "plt.show()"
   ],
   "outputs": [
    {
     "output_type": "display_data",
     "data": {
      "image/png": "[encoded data removed]",
      "text/plain": [
       "<Figure size 432x288 with 1 Axes>"
      ]
     },
     "metadata": {
      "needs_background": "light"
     }
    }
   ],
   "metadata": {}
  }
 ],
 "metadata": {
  "orig_nbformat": 4,
  "language_info": {
   "name": "python",
   "version": "3.8.10",
   "mimetype": "text/x-python",
   "codemirror_mode": {
    "name": "ipython",
    "version": 3
   },
   "pygments_lexer": "ipython3",
   "nbconvert_exporter": "python",
   "file_extension": ".py"
  },
  "kernelspec": {
   "name": "python3",
   "display_name": "Python 3.8.10 64-bit"
  },
  "interpreter": {
   "hash": "916dbcbb3f70747c44a77c7bcd40155683ae19c65e1c03b4aa3499c5328201f1"
  }
 },
 "nbformat": 4,
 "nbformat_minor": 2
}