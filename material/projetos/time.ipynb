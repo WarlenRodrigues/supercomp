{
 "cells": [
  {
   "cell_type": "code",
   "execution_count": 1,
   "source": [
    "%matplotlib inline\n",
    "import matplotlib.pyplot as plt\n",
    "import numpy as np"
   ],
   "outputs": [],
   "metadata": {}
  },
  {
   "cell_type": "code",
   "execution_count": 4,
   "source": [
    "import subprocess\n",
    "import time\n",
    "\n",
    "def collect_info(program, filename, times_list, coverages_list):\n",
    "    \n",
    "    with open(f'./entradas/{filename}','r') as input_file, open(f'./solucoes/{filename.replace(\"entrada\", \"solucao\")}','a') as solution_file:    \n",
    "        for line in input_file:\n",
    "            solution_file.write(line)\n",
    "\n",
    "\n",
    "    with open(f'./entradas/{filename}','r') as input_file, open(f'./solucoes/{filename.replace(\"entrada\", \"solucao\")}','a') as solution_file, open(f'./saidas/{filename.replace(\"entrada\", \"saida\")}','a') as output_file:\n",
    "\n",
    "        start = time.perf_counter()\n",
    "        proc = subprocess.run([f'./{program}'], input=input_file.read(), text=True, capture_output=True)\n",
    "        end = time.perf_counter()\n",
    "        times_list.append(end-start)\n",
    "\n",
    "        solution_file.write(f'\\n{proc.stdout}')\n",
    "        output_file.write(proc.stdout)\n",
    "    \n",
    "    with open(f'./solucoes/{filename.replace(\"entrada\", \"solucao\")}','r') as solution_file:\n",
    "        proc = subprocess.run([f'./verify'], input=solution_file.read(), text=True, capture_output=True)\n",
    "        coverages_list.append(proc.stdout)"
   ],
   "outputs": [],
   "metadata": {}
  },
  {
   "cell_type": "code",
   "execution_count": 6,
   "source": [
    "sizes = [250, 500, 1000]\n",
    "filenames = []\n",
    "coverages = []\n",
    "times = []\n",
    "\n",
    "for n in sizes:\n",
    "    for i in range(1,21):\n",
    "        filenames.append(f'entrada-{n}-{i}.txt')\n",
    "\n",
    "# for filename in filenames:\n",
    "#     collect_info(program=\"heuristica\", filename=filename, times_list=times, coverages_list=coverages)\n",
    "\n",
    "collect_info(program=\"heuristica\", filename='entrada-10-1.txt', times_list=times, coverages_list=coverages)\n",
    "print(times)\n",
    "print(coverages)"
   ],
   "outputs": [
    {
     "output_type": "stream",
     "name": "stdout",
     "text": [
      "[0.009837252087891102]\n",
      "['\\n\\x1b[1;32m100% dos elementos cobertos \\x1b[0m\\n']\n"
     ]
    }
   ],
   "metadata": {}
  }
 ],
 "metadata": {
  "orig_nbformat": 4,
  "language_info": {
   "name": "python",
   "version": "3.8.10",
   "mimetype": "text/x-python",
   "codemirror_mode": {
    "name": "ipython",
    "version": 3
   },
   "pygments_lexer": "ipython3",
   "nbconvert_exporter": "python",
   "file_extension": ".py"
  },
  "kernelspec": {
   "name": "python3",
   "display_name": "Python 3.8.10 64-bit"
  },
  "interpreter": {
   "hash": "916dbcbb3f70747c44a77c7bcd40155683ae19c65e1c03b4aa3499c5328201f1"
  }
 },
 "nbformat": 4,
 "nbformat_minor": 2
}